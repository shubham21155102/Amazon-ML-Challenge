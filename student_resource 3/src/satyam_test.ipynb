{
 "cells": [
  {
   "cell_type": "markdown",
   "id": "1b70b34e",
   "metadata": {},
   "source": [
    "### Basic library imports"
   ]
  },
  {
   "cell_type": "code",
   "execution_count": 2,
   "id": "719d15af",
   "metadata": {},
   "outputs": [],
   "source": [
    "import os\n",
    "import pandas as pd"
   ]
  },
  {
   "cell_type": "markdown",
   "id": "b8911e33",
   "metadata": {},
   "source": [
    "### Read Dataset"
   ]
  },
  {
   "cell_type": "code",
   "execution_count": 3,
   "id": "d3136aac",
   "metadata": {},
   "outputs": [],
   "source": [
    "DATASET_FOLDER = '../dataset/'\n",
    "train = pd.read_csv(os.path.join(DATASET_FOLDER, 'train.csv'))\n",
    "test = pd.read_csv(os.path.join(DATASET_FOLDER, 'test.csv'))\n",
    "sample_test = pd.read_csv(os.path.join(DATASET_FOLDER, 'sample_test.csv'))\n",
    "sample_test_out = pd.read_csv(os.path.join(DATASET_FOLDER, 'sample_test_out.csv'))"
   ]
  },
  {
   "cell_type": "markdown",
   "id": "60ebd689",
   "metadata": {},
   "source": [
    "### Run Sanity check using src/sanity.py"
   ]
  },
  {
   "cell_type": "code",
   "execution_count": 4,
   "id": "81bb3988",
   "metadata": {},
   "outputs": [
    {
     "name": "stdout",
     "output_type": "stream",
     "text": [
      "Parsing successfull for file: ../dataset/sample_test_out.csv\n"
     ]
    }
   ],
   "source": [
    "!python sanity.py --test_filename ../dataset/sample_test.csv --output_filename ../dataset/sample_test_out.csv"
   ]
  },
  {
   "cell_type": "code",
   "execution_count": 5,
   "id": "5aa79459",
   "metadata": {},
   "outputs": [
    {
     "name": "stdout",
     "output_type": "stream",
     "text": [
      "Error: Invalid unit [lbs] found in 6.75 lbs. Allowed units: {'milligram', 'cubic inch', 'pound', 'yard', 'millilitre', 'watt', 'inch', 'fluid ounce', 'cubic foot', 'millimetre', 'microgram', 'foot', 'decilitre', 'quart', 'metre', 'centimetre', 'cup', 'kilogram', 'kilowatt', 'centilitre', 'litre', 'imperial gallon', 'ounce', 'microlitre', 'pint', 'ton', 'gram', 'millivolt', 'gallon', 'volt', 'kilovolt'}\n"
     ]
    }
   ],
   "source": [
    "!python sanity.py --test_filename ../dataset/sample_test.csv --output_filename ../dataset/sample_test_out_fail.csv"
   ]
  },
  {
   "cell_type": "markdown",
   "id": "dbe930a8",
   "metadata": {},
   "source": [
    "### Download images"
   ]
  },
  {
   "cell_type": "code",
   "execution_count": 6,
   "id": "a3d1aad8",
   "metadata": {},
   "outputs": [
    {
     "name": "stderr",
     "output_type": "stream",
     "text": [
      "  0%|          | 0/88 [00:00<?, ?it/s]"
     ]
    },
    {
     "name": "stdout",
     "output_type": "stream",
     "text": [
      "https://m.media-amazon.com/images/I/51EBBqNOJ1L.jpg\n",
      "51EBBqNOJ1L.jpg\n",
      "https://m.media-amazon.com/images/I/41ADVPQgZOL.jpg\n",
      "41ADVPQgZOL.jpg\n",
      "https://m.media-amazon.com/images/I/41uwo4PVnuL.jpg\n",
      "41uwo4PVnuL.jpg\n",
      "https://m.media-amazon.com/images/I/61G8bvWOb-L.jpg\n",
      "61G8bvWOb-L.jpg\n",
      "https://m.media-amazon.com/images/I/41-NCxNuBxL.jpg\n",
      "41-NCxNuBxL.jpg\n",
      "https://m.media-amazon.com/images/I/514pScQdlCL.jpg\n",
      "514pScQdlCL.jpg\n",
      "https://m.media-amazon.com/images/I/61O+Yi09tyL.jpg\n",
      "61O+Yi09tyL.jpg\n",
      "https://m.media-amazon.com/images/I/61lX6IP1SVL.jpg\n",
      "61lX6IP1SVL.jpg\n",
      "https://m.media-amazon.com/images/I/41-NCxNuBxL.jpg\n",
      "41-NCxNuBxL.jpg\n",
      "https://m.media-amazon.com/images/I/51+oHGvSvuL.jpg\n",
      "https://m.media-amazon.com/images/I/71Qk6hR9-WL.jpg\n",
      "71Qk6hR9-WL.jpg\n",
      "51+oHGvSvuL.jpg\n"
     ]
    },
    {
     "name": "stderr",
     "output_type": "stream",
     "text": [
      "  1%|          | 1/88 [00:09<13:07,  9.05s/it]"
     ]
    },
    {
     "name": "stdout",
     "output_type": "stream",
     "text": [
      "https://m.media-amazon.com/images/I/51tEop-EBJL.jpg\n",
      "51tEop-EBJL.jpg\n",
      "https://m.media-amazon.com/images/I/71Qk6hR9-WL.jpg\n",
      "71Qk6hR9-WL.jpg\n",
      "https://m.media-amazon.com/images/I/514pScQdlCL.jpg\n",
      "514pScQdlCL.jpg\n",
      "https://m.media-amazon.com/images/I/510xYFNYQ8L.jpg\n",
      "510xYFNYQ8L.jpg\n",
      "https://m.media-amazon.com/images/I/71UN1IxKp4L.jpg\n",
      "71UN1IxKp4L.jpg\n",
      "https://m.media-amazon.com/images/I/615Cjzm6pyL.jpg\n",
      "615Cjzm6pyL.jpg\n",
      "https://m.media-amazon.com/images/I/417NJrPEk+L.jpg\n",
      "417NJrPEk+L.jpg\n",
      "https://m.media-amazon.com/images/I/51H+mX2Wk7L.jpg\n",
      "51H+mX2Wk7L.jpg\n",
      "https://m.media-amazon.com/images/I/51-WIOx5pxL.jpg\n",
      "51-WIOx5pxL.jpg\n",
      "https://m.media-amazon.com/images/I/41zgjN+zW3L.jpg\n",
      "41zgjN+zW3L.jpg\n",
      "https://m.media-amazon.com/images/I/51kdBAv6ImL.jpg\n",
      "51kdBAv6ImL.jpg\n",
      "https://m.media-amazon.com/images/I/41ygXRvf8lL.jpg\n",
      "41ygXRvf8lL.jpg\n",
      "https://m.media-amazon.com/images/I/51Su6zXkAsL.jpg\n",
      "51Su6zXkAsL.jpg\n",
      "https://m.media-amazon.com/images/I/71UN1IxKp4L.jpg\n",
      "71UN1IxKp4L.jpg\n",
      "https://m.media-amazon.com/images/I/41o3iis9E7L.jpg\n",
      "41o3iis9E7L.jpg\n",
      "https://m.media-amazon.com/images/I/41uwo4PVnuL.jpg\n",
      "41uwo4PVnuL.jpg\n",
      "https://m.media-amazon.com/images/I/71UYDq4nfnL.jpg\n",
      "71UYDq4nfnL.jpg\n",
      "https://m.media-amazon.com/images/I/514bY8c4ZIL.jpg\n",
      "514bY8c4ZIL.jpg\n",
      "https://m.media-amazon.com/images/I/51bEy0J5wLL.jpg\n",
      "51bEy0J5wLL.jpg\n",
      "https://m.media-amazon.com/images/I/51r7U52rh7L.jpg\n",
      "51r7U52rh7L.jpg\n",
      "https://m.media-amazon.com/images/I/41nblnEkJ3L.jpg\n",
      "41nblnEkJ3L.jpg\n"
     ]
    },
    {
     "name": "stderr",
     "output_type": "stream",
     "text": [
      "  2%|▏         | 2/88 [00:09<06:00,  4.19s/it]"
     ]
    },
    {
     "name": "stdout",
     "output_type": "stream",
     "text": [
      "https://m.media-amazon.com/images/I/51fAzxNm+cL.jpg\n",
      "51fAzxNm+cL.jpg\n",
      "https://m.media-amazon.com/images/I/41ygXRvf8lL.jpg\n",
      "41ygXRvf8lL.jpg\n",
      "https://m.media-amazon.com/images/I/51H+mX2Wk7L.jpg\n",
      "51H+mX2Wk7L.jpg\n",
      "https://m.media-amazon.com/images/I/41pvwR9GbaL.jpg\n",
      "41pvwR9GbaL.jpg\n",
      "https://m.media-amazon.com/images/I/71UYDq4nfnL.jpg\n",
      "71UYDq4nfnL.jpg\n",
      "https://m.media-amazon.com/images/I/71WAjPMQDWL.jpg\n",
      "71WAjPMQDWL.jpg\n",
      "https://m.media-amazon.com/images/I/510xYFNYQ8L.jpg\n",
      "510xYFNYQ8L.jpg\n",
      "https://m.media-amazon.com/images/I/51kdBAv6ImL.jpg\n",
      "51kdBAv6ImL.jpg\n",
      "https://m.media-amazon.com/images/I/51FSlaVlejL.jpg\n",
      "51FSlaVlejL.jpg\n",
      "https://m.media-amazon.com/images/I/51r7U52rh7L.jpg\n",
      "51r7U52rh7L.jpg\n",
      "https://m.media-amazon.com/images/I/51+oHGvSvuL.jpg\n",
      "51+oHGvSvuL.jpg\n",
      "https://m.media-amazon.com/images/I/417SThj+SrL.jpg\n",
      "417SThj+SrL.jpg\n",
      "https://m.media-amazon.com/images/I/51vwYpDz2tL.jpghttps://m.media-amazon.com/images/I/51KykmLgc0L.jpg\n",
      "51KykmLgc0L.jpg\n",
      "\n",
      "51vwYpDz2tL.jpg\n",
      "https://m.media-amazon.com/images/I/51cPZYLk2YL.jpg\n",
      "51cPZYLk2YL.jpg\n",
      "https://m.media-amazon.com/images/I/51BEuVR4ZzL.jpg\n",
      "51BEuVR4ZzL.jpg\n",
      "https://m.media-amazon.com/images/I/51P0IuT6RsL.jpg\n",
      "51P0IuT6RsL.jpg\n",
      "https://m.media-amazon.com/images/I/615Cjzm6pyL.jpg\n",
      "615Cjzm6pyL.jpg\n",
      "https://m.media-amazon.com/images/I/51jTe522S2L.jpg\n",
      "51jTe522S2L.jpg\n",
      "https://m.media-amazon.com/images/I/41nblnEkJ3L.jpg\n",
      "41nblnEkJ3L.jpg\n",
      "https://m.media-amazon.com/images/I/510xYFNYQ8L.jpg\n",
      "510xYFNYQ8L.jpg\n",
      "https://m.media-amazon.com/images/I/51EBBqNOJ1L.jpg\n",
      "51EBBqNOJ1L.jpg\n",
      "https://m.media-amazon.com/images/I/51BEuVR4ZzL.jpg\n",
      "51BEuVR4ZzL.jpg\n",
      "https://m.media-amazon.com/images/I/51y79cwGJFL.jpg\n",
      "https://m.media-amazon.com/images/I/71WAjPMQDWL.jpg\n",
      "71WAjPMQDWL.jpg\n",
      "https://m.media-amazon.com/images/I/514bY8c4ZIL.jpg\n",
      "514bY8c4ZIL.jpg\n",
      "51y79cwGJFL.jpg\n",
      "https://m.media-amazon.com/images/I/61C+fwVD6dL.jpg\n",
      "61C+fwVD6dL.jpg\n",
      "https://m.media-amazon.com/images/I/51fAzxNm+cL.jpg\n",
      "51fAzxNm+cL.jpg\n",
      "https://m.media-amazon.com/images/I/51y79cwGJFL.jpg\n",
      "51y79cwGJFL.jpg\n",
      "https://m.media-amazon.com/images/I/51r7U52rh7L.jpg\n",
      "51r7U52rh7L.jpg\n",
      "https://m.media-amazon.com/images/I/51-WIOx5pxL.jpg\n",
      "51-WIOx5pxL.jpg\n",
      "https://m.media-amazon.com/images/I/417SThj+SrL.jpg\n",
      "417SThj+SrL.jpg\n",
      "https://m.media-amazon.com/images/I/61E2XRNSdYL.jpg\n",
      "61E2XRNSdYL.jpg\n",
      "https://m.media-amazon.com/images/I/51EBBqNOJ1L.jpg\n",
      "51EBBqNOJ1L.jpg\n",
      "https://m.media-amazon.com/images/I/71afEPoRGsL.jpg\n",
      "71afEPoRGsL.jpg\n",
      "https://m.media-amazon.com/images/I/51oaOP8qJlL.jpg\n",
      "51oaOP8qJlL.jpg\n",
      "https://m.media-amazon.com/images/I/51fAzxNm+cL.jpg\n",
      "51fAzxNm+cL.jpg\n",
      "https://m.media-amazon.com/images/I/51y79cwGJFL.jpg\n",
      "51y79cwGJFL.jpg\n",
      "https://m.media-amazon.com/images/I/51l6c6UcRZL.jpg\n",
      "51l6c6UcRZL.jpg\n",
      "https://m.media-amazon.com/images/I/51oaOP8qJlL.jpg\n",
      "51oaOP8qJlL.jpg\n",
      "https://m.media-amazon.com/images/I/61G8bvWOb-L.jpg\n",
      "61G8bvWOb-L.jpg\n",
      "https://m.media-amazon.com/images/I/71afEPoRGsL.jpg\n",
      "71afEPoRGsL.jpg\n",
      "https://m.media-amazon.com/images/I/613P5cxQH4L.jpg\n",
      "613P5cxQH4L.jpg\n",
      "https://m.media-amazon.com/images/I/613P5cxQH4L.jpg\n",
      "613P5cxQH4L.jpg\n",
      "https://m.media-amazon.com/images/I/614hn5uX9MS.jpg\n",
      "614hn5uX9MS.jpg\n",
      "https://m.media-amazon.com/images/I/71eCfiIG-AL.jpg\n",
      "71eCfiIG-AL.jpg\n",
      "https://m.media-amazon.com/images/I/71fWddA0+yL.jpg\n",
      "71fWddA0+yL.jpg\n",
      "https://m.media-amazon.com/images/I/71ta6wY3HtL.jpg\n",
      "71ta6wY3HtL.jpg\n",
      "https://m.media-amazon.com/images/I/71ta6wY3HtL.jpg\n",
      "71ta6wY3HtL.jpg\n"
     ]
    },
    {
     "name": "stderr",
     "output_type": "stream",
     "text": [
      "  3%|▎         | 3/88 [00:11<04:27,  3.14s/it]"
     ]
    },
    {
     "name": "stdout",
     "output_type": "stream",
     "text": [
      "https://m.media-amazon.com/images/I/71v+pim0lfL.jpg\n",
      "71v+pim0lfL.jpg\n",
      "https://m.media-amazon.com/images/I/71v+pim0lfL.jpg\n",
      "71v+pim0lfL.jpg\n",
      "https://m.media-amazon.com/images/I/81IYdOV0mVL.jpg\n",
      "81IYdOV0mVL.jpg\n",
      "https://m.media-amazon.com/images/I/81PG3ea0MOL.jpg\n",
      "81PG3ea0MOL.jpg\n",
      "https://m.media-amazon.com/images/I/81aZ2ozp1GL.jpg\n",
      "81aZ2ozp1GL.jpg\n",
      "https://m.media-amazon.com/images/I/81qUmRUUTTL.jpg\n",
      "81qUmRUUTTL.jpg\n",
      "https://m.media-amazon.com/images/I/81qUmRUUTTL.jpg\n",
      "81qUmRUUTTL.jpg\n"
     ]
    },
    {
     "name": "stderr",
     "output_type": "stream",
     "text": [
      "100%|██████████| 88/88 [00:21<00:00,  4.06it/s]\n"
     ]
    }
   ],
   "source": [
    "from utils import download_images\n",
    "download_images(sample_test['image_link'], '../images')"
   ]
  },
  {
   "cell_type": "code",
   "execution_count": 9,
   "id": "89aaba53",
   "metadata": {},
   "outputs": [],
   "source": [
    "assert len(os.listdir('../images')) > 0"
   ]
  },
  {
   "cell_type": "code",
   "execution_count": 1,
   "id": "1ba3d802",
   "metadata": {},
   "outputs": [],
   "source": [
    "rm -rf ../images"
   ]
  },
  {
   "cell_type": "code",
   "execution_count": 5,
   "id": "6c38a641",
   "metadata": {},
   "outputs": [
    {
     "data": {
      "text/html": [
       "<div>\n",
       "<style scoped>\n",
       "    .dataframe tbody tr th:only-of-type {\n",
       "        vertical-align: middle;\n",
       "    }\n",
       "\n",
       "    .dataframe tbody tr th {\n",
       "        vertical-align: top;\n",
       "    }\n",
       "\n",
       "    .dataframe thead th {\n",
       "        text-align: right;\n",
       "    }\n",
       "</style>\n",
       "<table border=\"1\" class=\"dataframe\">\n",
       "  <thead>\n",
       "    <tr style=\"text-align: right;\">\n",
       "      <th></th>\n",
       "      <th>image_link</th>\n",
       "      <th>group_id</th>\n",
       "      <th>entity_name</th>\n",
       "      <th>entity_value</th>\n",
       "    </tr>\n",
       "  </thead>\n",
       "  <tbody>\n",
       "    <tr>\n",
       "      <th>0</th>\n",
       "      <td>https://m.media-amazon.com/images/I/61I9XdN6OF...</td>\n",
       "      <td>748919</td>\n",
       "      <td>item_weight</td>\n",
       "      <td>500.0 gram</td>\n",
       "    </tr>\n",
       "    <tr>\n",
       "      <th>1</th>\n",
       "      <td>https://m.media-amazon.com/images/I/71gSRbyXmo...</td>\n",
       "      <td>916768</td>\n",
       "      <td>item_volume</td>\n",
       "      <td>1.0 cup</td>\n",
       "    </tr>\n",
       "    <tr>\n",
       "      <th>2</th>\n",
       "      <td>https://m.media-amazon.com/images/I/61BZ4zrjZX...</td>\n",
       "      <td>459516</td>\n",
       "      <td>item_weight</td>\n",
       "      <td>0.709 gram</td>\n",
       "    </tr>\n",
       "    <tr>\n",
       "      <th>3</th>\n",
       "      <td>https://m.media-amazon.com/images/I/612mrlqiI4...</td>\n",
       "      <td>459516</td>\n",
       "      <td>item_weight</td>\n",
       "      <td>0.709 gram</td>\n",
       "    </tr>\n",
       "    <tr>\n",
       "      <th>4</th>\n",
       "      <td>https://m.media-amazon.com/images/I/617Tl40LOX...</td>\n",
       "      <td>731432</td>\n",
       "      <td>item_weight</td>\n",
       "      <td>1400 milligram</td>\n",
       "    </tr>\n",
       "  </tbody>\n",
       "</table>\n",
       "</div>"
      ],
      "text/plain": [
       "                                          image_link  group_id  entity_name  \\\n",
       "0  https://m.media-amazon.com/images/I/61I9XdN6OF...    748919  item_weight   \n",
       "1  https://m.media-amazon.com/images/I/71gSRbyXmo...    916768  item_volume   \n",
       "2  https://m.media-amazon.com/images/I/61BZ4zrjZX...    459516  item_weight   \n",
       "3  https://m.media-amazon.com/images/I/612mrlqiI4...    459516  item_weight   \n",
       "4  https://m.media-amazon.com/images/I/617Tl40LOX...    731432  item_weight   \n",
       "\n",
       "     entity_value  \n",
       "0      500.0 gram  \n",
       "1         1.0 cup  \n",
       "2      0.709 gram  \n",
       "3      0.709 gram  \n",
       "4  1400 milligram  "
      ]
     },
     "execution_count": 5,
     "metadata": {},
     "output_type": "execute_result"
    }
   ],
   "source": [
    "train.head()"
   ]
  },
  {
   "cell_type": "code",
   "execution_count": 7,
   "id": "08fa4f4a",
   "metadata": {},
   "outputs": [
    {
     "data": {
      "text/plain": [
       "'https://m.media-amazon.com/images/I/61I9XdN6OFL.jpg'"
      ]
     },
     "execution_count": 7,
     "metadata": {},
     "output_type": "execute_result"
    }
   ],
   "source": [
    "train[\"image_link\"][0]"
   ]
  },
  {
   "cell_type": "code",
   "execution_count": 8,
   "id": "eaaf9d1b",
   "metadata": {},
   "outputs": [
    {
     "ename": "ModuleNotFoundError",
     "evalue": "No module named 'keras_ocr'",
     "output_type": "error",
     "traceback": [
      "\u001b[1;31m---------------------------------------------------------------------------\u001b[0m",
      "\u001b[1;31mModuleNotFoundError\u001b[0m                       Traceback (most recent call last)",
      "Cell \u001b[1;32mIn[8], line 1\u001b[0m\n\u001b[1;32m----> 1\u001b[0m \u001b[38;5;28;01mimport\u001b[39;00m \u001b[38;5;21;01mkeras_ocr\u001b[39;00m\n\u001b[0;32m      2\u001b[0m \u001b[38;5;28;01mimport\u001b[39;00m \u001b[38;5;21;01mmatplotlib\u001b[39;00m\u001b[38;5;21;01m.\u001b[39;00m\u001b[38;5;21;01mpyplot\u001b[39;00m \u001b[38;5;28;01mas\u001b[39;00m \u001b[38;5;21;01mplt\u001b[39;00m\n",
      "\u001b[1;31mModuleNotFoundError\u001b[0m: No module named 'keras_ocr'"
     ]
    }
   ],
   "source": [
    "import matplotlib.pyplot as plt\n",
    "\n",
    "import keras_ocr\n",
    "\n",
    "# keras-ocr will automatically download pretrained\n",
    "# weights for the detector and recognizer.\n",
    "pipeline = keras_ocr.pipeline.Pipeline()\n",
    "\n",
    "# Get a set of three example images\n",
    "images = [\n",
    "    keras_ocr.tools.read(url) for url in [\n",
    "        'https://upload.wikimedia.org/wikipedia/commons/b/bd/Army_Reserves_Recruitment_Banner_MOD_45156284.jpg'\n",
    "    ]\n",
    "]\n",
    "\n",
    "# Each list of predictions in prediction_groups is a list of\n",
    "# (word, box) tuples.\n",
    "prediction_groups = pipeline.recognize(images)\n",
    "\n",
    "# Plot the predictions\n",
    "fig, axs = plt.subplots(nrows=len(images), figsize=(20, 20))\n",
    "for ax, image, predictions in zip(axs, images, prediction_groups):\n",
    "    keras_ocr.tools.drawAnnotations(image=image, predictions=predictions, ax=ax)"
   ]
  },
  {
   "cell_type": "code",
   "execution_count": null,
   "id": "2becabfc",
   "metadata": {},
   "outputs": [],
   "source": []
  }
 ],
 "metadata": {
  "kernelspec": {
   "display_name": "shubham",
   "language": "python",
   "name": "python3"
  },
  "language_info": {
   "codemirror_mode": {
    "name": "ipython",
    "version": 3
   },
   "file_extension": ".py",
   "mimetype": "text/x-python",
   "name": "python",
   "nbconvert_exporter": "python",
   "pygments_lexer": "ipython3",
   "version": "3.12.3"
  }
 },
 "nbformat": 4,
 "nbformat_minor": 5
}
