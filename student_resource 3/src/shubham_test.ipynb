{
 "cells": [
  {
   "cell_type": "markdown",
   "id": "1b70b34e",
   "metadata": {},
   "source": [
    "### Basic library imports"
   ]
  },
  {
   "cell_type": "code",
   "execution_count": 1,
   "id": "719d15af",
   "metadata": {},
   "outputs": [],
   "source": [
    "import os\n",
    "import pandas as pd"
   ]
  },
  {
   "cell_type": "markdown",
   "id": "b8911e33",
   "metadata": {},
   "source": [
    "### Read Dataset"
   ]
  },
  {
   "cell_type": "code",
   "execution_count": 3,
   "id": "d3136aac",
   "metadata": {},
   "outputs": [],
   "source": [
    "DATASET_FOLDER = '../dataset/'\n",
    "train = pd.read_csv(os.path.join(DATASET_FOLDER, 'train.csv'))\n",
    "test = pd.read_csv(os.path.join(DATASET_FOLDER, 'test.csv'))\n",
    "sample_test = pd.read_csv(os.path.join(DATASET_FOLDER, 'sample_test.csv'))\n",
    "sample_test_out = pd.read_csv(os.path.join(DATASET_FOLDER, 'sample_test_out.csv'))"
   ]
  },
  {
   "cell_type": "markdown",
   "id": "60ebd689",
   "metadata": {},
   "source": [
    "### Run Sanity check using src/sanity.py"
   ]
  },
  {
   "cell_type": "code",
   "execution_count": 5,
   "id": "81bb3988",
   "metadata": {},
   "outputs": [
    {
     "name": "stdout",
     "output_type": "stream",
     "text": [
      "Parsing successfull for file: ../dataset/sample_test_out.csv\n"
     ]
    }
   ],
   "source": [
    "!python sanity.py --test_filename ../dataset/sample_test.csv --output_filename ../dataset/sample_test_out.csv"
   ]
  },
  {
   "cell_type": "code",
   "execution_count": 6,
   "id": "5aa79459",
   "metadata": {},
   "outputs": [
    {
     "name": "stdout",
     "output_type": "stream",
     "text": [
      "Error: Invalid unit [lbs] found in 6.75 lbs. Allowed units: {'millimetre', 'litre', 'ton', 'gram', 'inch', 'kilovolt', 'cup', 'quart', 'watt', 'cubic inch', 'pint', 'gallon', 'decilitre', 'kilogram', 'volt', 'ounce', 'metre', 'centilitre', 'millilitre', 'foot', 'imperial gallon', 'centimetre', 'millivolt', 'cubic foot', 'pound', 'kilowatt', 'microgram', 'yard', 'milligram', 'fluid ounce', 'microlitre'}\n"
     ]
    }
   ],
   "source": [
    "!python sanity.py --test_filename ../dataset/sample_test.csv --output_filename ../dataset/sample_test_out_fail.csv"
   ]
  },
  {
   "cell_type": "markdown",
   "id": "dbe930a8",
   "metadata": {},
   "source": [
    "### Download images"
   ]
  },
  {
   "cell_type": "code",
   "execution_count": 41,
   "id": "a3d1aad8",
   "metadata": {},
   "outputs": [
    {
     "name": "stderr",
     "output_type": "stream",
     "text": [
      "  0%|          | 0/88 [00:00<?, ?it/s]"
     ]
    },
    {
     "name": "stdout",
     "output_type": "stream",
     "text": [
      "https://m.media-amazon.com/images/I/41-NCxNuBxL.jpg\n",
      "41-NCxNuBxL.jpg\n",
      "https://m.media-amazon.com/images/I/61G8bvWOb-L.jpg\n",
      "61G8bvWOb-L.jpg\n",
      "https://m.media-amazon.com/images/I/61O+Yi09tyL.jpg\n",
      "61O+Yi09tyL.jpg\n",
      "https://m.media-amazon.com/images/I/61lX6IP1SVL.jpg\n",
      "61lX6IP1SVL.jpg\n",
      "https://m.media-amazon.com/images/I/71Qk6hR9-WL.jpg\n",
      "71Qk6hR9-WL.jpg\n",
      "https://m.media-amazon.com/images/I/71Qk6hR9-WL.jpg\n",
      "71Qk6hR9-WL.jpg\n",
      "https://m.media-amazon.com/images/I/71UN1IxKp4L.jpg\n",
      "71UN1IxKp4L.jpg\n",
      "https://m.media-amazon.com/images/I/71UN1IxKp4L.jpg\n",
      "71UN1IxKp4L.jpg\n",
      "https://m.media-amazon.com/images/I/71UYDq4nfnL.jpg\n",
      "71UYDq4nfnL.jpg\n",
      "https://m.media-amazon.com/images/I/71UYDq4nfnL.jpg\n",
      "71UYDq4nfnL.jpg\n",
      "https://m.media-amazon.com/images/I/71WAjPMQDWL.jpg\n",
      "71WAjPMQDWL.jpg\n",
      "https://m.media-amazon.com/images/I/71WAjPMQDWL.jpg\n",
      "71WAjPMQDWL.jpg\n",
      "https://m.media-amazon.com/images/I/71afEPoRGsL.jpg\n",
      "71afEPoRGsL.jpg\n",
      "https://m.media-amazon.com/images/I/71afEPoRGsL.jpg\n",
      "71afEPoRGsL.jpg\n",
      "https://m.media-amazon.com/images/I/71eCfiIG-AL.jpg\n",
      "71eCfiIG-AL.jpg\n",
      "https://m.media-amazon.com/images/I/71fWddA0+yL.jpg\n",
      "71fWddA0+yL.jpg\n",
      "https://m.media-amazon.com/images/I/71ta6wY3HtL.jpg\n",
      "71ta6wY3HtL.jpg\n",
      "https://m.media-amazon.com/images/I/71ta6wY3HtL.jpg\n",
      "71ta6wY3HtL.jpg\n",
      "https://m.media-amazon.com/images/I/71v+pim0lfL.jpg\n",
      "71v+pim0lfL.jpg\n",
      "https://m.media-amazon.com/images/I/71v+pim0lfL.jpg\n",
      "71v+pim0lfL.jpg\n",
      "https://m.media-amazon.com/images/I/81IYdOV0mVL.jpg\n",
      "81IYdOV0mVL.jpg\n",
      "https://m.media-amazon.com/images/I/81PG3ea0MOL.jpg\n",
      "81PG3ea0MOL.jpg\n",
      "https://m.media-amazon.com/images/I/81aZ2ozp1GL.jpg\n",
      "81aZ2ozp1GL.jpg\n",
      "https://m.media-amazon.com/images/I/81qUmRUUTTL.jpg\n",
      "81qUmRUUTTL.jpg\n",
      "https://m.media-amazon.com/images/I/81qUmRUUTTL.jpg\n",
      "81qUmRUUTTL.jpg\n",
      "https://m.media-amazon.com/images/I/51r7U52rh7L.jpg\n",
      "51r7U52rh7L.jpg\n",
      "https://m.media-amazon.com/images/I/51bEy0J5wLL.jpg\n",
      "51bEy0J5wLL.jpg\n",
      "https://m.media-amazon.com/images/I/51H+mX2Wk7L.jpg\n",
      "51H+mX2Wk7L.jpg\n",
      "https://m.media-amazon.com/images/I/41nblnEkJ3L.jpg\n",
      "41nblnEkJ3L.jpg\n",
      "https://m.media-amazon.com/images/I/41ADVPQgZOL.jpg\n",
      "41ADVPQgZOL.jpg\n",
      "https://m.media-amazon.com/images/I/51EBBqNOJ1L.jpg\n",
      "51EBBqNOJ1L.jpg\n",
      "https://m.media-amazon.com/images/I/51FSlaVlejL.jpg\n",
      "51FSlaVlejL.jpg\n",
      "https://m.media-amazon.com/images/I/417NJrPEk+L.jpg\n",
      "417NJrPEk+L.jpg\n",
      "https://m.media-amazon.com/images/I/51y79cwGJFL.jpg\n",
      "51y79cwGJFL.jpg\n",
      "https://m.media-amazon.com/images/I/51y79cwGJFL.jpg\n",
      "51y79cwGJFL.jpg\n",
      "https://m.media-amazon.com/images/I/417SThj+SrL.jpg\n",
      "417SThj+SrL.jpg\n",
      "https://m.media-amazon.com/images/I/51Su6zXkAsL.jpg\n",
      "51Su6zXkAsL.jpg\n",
      "https://m.media-amazon.com/images/I/614hn5uX9MS.jpg\n",
      "614hn5uX9MS.jpg\n",
      "https://m.media-amazon.com/images/I/510xYFNYQ8L.jpg\n",
      "510xYFNYQ8L.jpg\n"
     ]
    },
    {
     "name": "stderr",
     "output_type": "stream",
     "text": [
      "  1%|          | 1/88 [00:09<13:27,  9.28s/it]"
     ]
    },
    {
     "name": "stdout",
     "output_type": "stream",
     "text": [
      "https://m.media-amazon.com/images/I/51l6c6UcRZL.jpg\n",
      "51l6c6UcRZL.jpg\n",
      "https://m.media-amazon.com/images/I/51kdBAv6ImL.jpg\n",
      "51kdBAv6ImL.jpg\n",
      "https://m.media-amazon.com/images/I/41-NCxNuBxL.jpg\n",
      "41-NCxNuBxL.jpg\n",
      "https://m.media-amazon.com/images/I/61E2XRNSdYL.jpg\n",
      "61E2XRNSdYL.jpg\n",
      "https://m.media-amazon.com/images/I/41uwo4PVnuL.jpg\n",
      "41uwo4PVnuL.jpg\n",
      "https://m.media-amazon.com/images/I/51tEop-EBJL.jpg\n",
      "51tEop-EBJL.jpg\n"
     ]
    },
    {
     "name": "stderr",
     "output_type": "stream",
     "text": [
      "  8%|▊         | 7/88 [00:09<01:13,  1.10it/s]"
     ]
    },
    {
     "name": "stdout",
     "output_type": "stream",
     "text": [
      "https://m.media-amazon.com/images/I/51+oHGvSvuL.jpg\n",
      "51+oHGvSvuL.jpg\n",
      "https://m.media-amazon.com/images/I/41uwo4PVnuL.jpg\n",
      "41uwo4PVnuL.jpg\n",
      "https://m.media-amazon.com/images/I/51-WIOx5pxL.jpg\n",
      "51-WIOx5pxL.jpg\n",
      "https://m.media-amazon.com/images/I/51H+mX2Wk7L.jpg\n",
      "51H+mX2Wk7L.jpg\n",
      "https://m.media-amazon.com/images/I/613P5cxQH4L.jpg\n",
      "613P5cxQH4L.jpg\n",
      "https://m.media-amazon.com/images/I/615Cjzm6pyL.jpg\n",
      "615Cjzm6pyL.jpg\n",
      "https://m.media-amazon.com/images/I/514bY8c4ZIL.jpg\n",
      "514bY8c4ZIL.jpg\n",
      "https://m.media-amazon.com/images/I/417SThj+SrL.jpg\n",
      "417SThj+SrL.jpg\n",
      "https://m.media-amazon.com/images/I/51KykmLgc0L.jpg\n",
      "51KykmLgc0L.jpg\n",
      "https://m.media-amazon.com/images/I/41ygXRvf8lL.jpg\n",
      "41ygXRvf8lL.jpg\n",
      "https://m.media-amazon.com/images/I/41ygXRvf8lL.jpg\n",
      "41ygXRvf8lL.jpg\n",
      "https://m.media-amazon.com/images/I/51EBBqNOJ1L.jpg\n",
      "51EBBqNOJ1L.jpg\n",
      "https://m.media-amazon.com/images/I/613P5cxQH4L.jpg\n",
      "613P5cxQH4L.jpg\n",
      "https://m.media-amazon.com/images/I/41o3iis9E7L.jpg\n",
      "41o3iis9E7L.jpg\n",
      "https://m.media-amazon.com/images/I/41nblnEkJ3L.jpg\n",
      "41nblnEkJ3L.jpg\n"
     ]
    },
    {
     "name": "stderr",
     "output_type": "stream",
     "text": [
      " 23%|██▎       | 20/88 [00:09<00:13,  5.18it/s]"
     ]
    },
    {
     "name": "stdout",
     "output_type": "stream",
     "text": [
      "https://m.media-amazon.com/images/I/51+oHGvSvuL.jpg\n",
      "51+oHGvSvuL.jpg\n",
      "https://m.media-amazon.com/images/I/510xYFNYQ8L.jpg\n",
      "510xYFNYQ8L.jpg\n",
      "https://m.media-amazon.com/images/I/41pvwR9GbaL.jpg\n",
      "41pvwR9GbaL.jpg\n",
      "https://m.media-amazon.com/images/I/514pScQdlCL.jpg\n",
      "https://m.media-amazon.com/images/I/51BEuVR4ZzL.jpg\n",
      "51BEuVR4ZzL.jpg\n",
      "https://m.media-amazon.com/images/I/51r7U52rh7L.jpg\n",
      "51r7U52rh7L.jpg\n",
      "https://m.media-amazon.com/images/I/41zgjN+zW3L.jpg\n",
      "41zgjN+zW3L.jpg\n",
      "514pScQdlCL.jpg\n",
      "https://m.media-amazon.com/images/I/51oaOP8qJlL.jpg\n",
      "51oaOP8qJlL.jpg\n",
      "https://m.media-amazon.com/images/I/61G8bvWOb-L.jpg\n",
      "61G8bvWOb-L.jpg\n",
      "https://m.media-amazon.com/images/I/61C+fwVD6dL.jpg\n",
      "https://m.media-amazon.com/images/I/615Cjzm6pyL.jpg\n",
      "61C+fwVD6dL.jpg\n",
      "615Cjzm6pyL.jpg\n",
      "https://m.media-amazon.com/images/I/51cPZYLk2YL.jpg\n",
      "51cPZYLk2YL.jpg\n",
      "https://m.media-amazon.com/images/I/51P0IuT6RsL.jpg\n",
      "51P0IuT6RsL.jpg\n",
      "https://m.media-amazon.com/images/I/51kdBAv6ImL.jpg\n",
      "51kdBAv6ImL.jpg\n",
      "https://m.media-amazon.com/images/I/51vwYpDz2tL.jpg\n",
      "51vwYpDz2tL.jpg\n",
      "https://m.media-amazon.com/images/I/51-WIOx5pxL.jpg\n",
      "51-WIOx5pxL.jpg\n",
      "https://m.media-amazon.com/images/I/51jTe522S2L.jpg\n",
      "51jTe522S2L.jpg\n",
      "https://m.media-amazon.com/images/I/51fAzxNm+cL.jpg\n",
      "51fAzxNm+cL.jpg\n",
      "https://m.media-amazon.com/images/I/510xYFNYQ8L.jpg\n",
      "510xYFNYQ8L.jpg\n",
      "https://m.media-amazon.com/images/I/51BEuVR4ZzL.jpg\n",
      "51BEuVR4ZzL.jpg\n",
      "https://m.media-amazon.com/images/I/51fAzxNm+cL.jpg\n",
      "51fAzxNm+cL.jpg\n"
     ]
    },
    {
     "name": "stderr",
     "output_type": "stream",
     "text": [
      "100%|██████████| 88/88 [00:09<00:00,  8.92it/s]\n"
     ]
    },
    {
     "name": "stdout",
     "output_type": "stream",
     "text": [
      "https://m.media-amazon.com/images/I/51oaOP8qJlL.jpg\n",
      "51oaOP8qJlL.jpg\n",
      "https://m.media-amazon.com/images/I/514bY8c4ZIL.jpg\n",
      "514bY8c4ZIL.jpg\n",
      "https://m.media-amazon.com/images/I/51r7U52rh7L.jpg\n",
      "51r7U52rh7L.jpg\n",
      "https://m.media-amazon.com/images/I/514pScQdlCL.jpg\n",
      "514pScQdlCL.jpg\n",
      "https://m.media-amazon.com/images/I/51EBBqNOJ1L.jpg\n",
      "51EBBqNOJ1L.jpg\n",
      "https://m.media-amazon.com/images/I/51fAzxNm+cL.jpg\n",
      "51fAzxNm+cL.jpg\n",
      "https://m.media-amazon.com/images/I/51y79cwGJFL.jpg\n",
      "51y79cwGJFL.jpg\n"
     ]
    }
   ],
   "source": [
    "from utils import download_images\n",
    "download_images(sample_test['image_link'], '../images')"
   ]
  },
  {
   "cell_type": "code",
   "execution_count": 7,
   "id": "89aaba53",
   "metadata": {},
   "outputs": [],
   "source": [
    "assert len(os.listdir('../images')) > 0"
   ]
  },
  {
   "cell_type": "code",
   "execution_count": 34,
   "id": "1ba3d802",
   "metadata": {},
   "outputs": [],
   "source": [
    "rm -rf ../images"
   ]
  },
  {
   "cell_type": "code",
   "execution_count": 8,
   "id": "3a302b8e",
   "metadata": {},
   "outputs": [],
   "source": [
    "from pathlib import Path\n",
    "train_df = pd.read_csv('../dataset/train.csv')\n",
    "test_df = pd.read_csv('../dataset/test.csv')"
   ]
  },
  {
   "cell_type": "code",
   "execution_count": 54,
   "id": "6c38a641",
   "metadata": {},
   "outputs": [
    {
     "name": "stdout",
     "output_type": "stream",
     "text": [
      "File not found: ../images/71gSRbyXmoL.jpg\n"
     ]
    }
   ],
   "source": [
    "import easyocr\n",
    "import os\n",
    "from pathlib import Path\n",
    "\n",
    "reader = easyocr.Reader(['en'])\n",
    "\n",
    "def extract_text_from_image(image_path):\n",
    "    result = reader.readtext(image_path)\n",
    "    text = \" \".join([res[1] for res in result])\n",
    "    return text\n",
    "\n",
    "# Sample image link\n",
    "link = train_df.head()['image_link'][1]\n",
    "images_1 = Path(link).name\n",
    "\n",
    "# Adjust the path to the directory where images are stored\n",
    "sample_image_path = f\"../images/{images_1}\"\n",
    "\n",
    "# Debugging: Check if the file exists\n",
    "if os.path.exists(sample_image_path):\n",
    "    extracted_text = extract_text_from_image(sample_image_path)\n",
    "    print(extracted_text)\n",
    "else:\n",
    "    print(f\"File not found: {sample_image_path}\")"
   ]
  },
  {
   "cell_type": "code",
   "execution_count": 19,
   "id": "676db3de",
   "metadata": {},
   "outputs": [
    {
     "name": "stderr",
     "output_type": "stream",
     "text": [
      "/Users/shubham/Downloads/7th Sem/Amazon ML/shubham/lib/python3.12/site-packages/torchvision/models/_utils.py:208: UserWarning: The parameter 'pretrained' is deprecated since 0.13 and may be removed in the future, please use 'weights' instead.\n",
      "  warnings.warn(\n",
      "/Users/shubham/Downloads/7th Sem/Amazon ML/shubham/lib/python3.12/site-packages/torchvision/models/_utils.py:223: UserWarning: Arguments other than a weight enum or `None` for 'weights' are deprecated since 0.13 and may be removed in the future. The current behavior is equivalent to passing `weights=ResNet50_Weights.IMAGENET1K_V1`. You can also use `weights=ResNet50_Weights.DEFAULT` to get the most up-to-date weights.\n",
      "  warnings.warn(msg)\n"
     ]
    },
    {
     "name": "stdout",
     "output_type": "stream",
     "text": [
      "\n",
      "\n",
      "[-2.52169180e+00 -7.84992218e-01 -3.69942188e+00 -2.38512158e+00\n",
      " -1.19620967e+00  2.02922750e+00 -3.71941972e+00 -2.69134331e+00\n",
      " -3.23138165e+00 -8.72537136e-01 -1.30849433e+00 -3.86980414e+00\n",
      " -3.16133261e+00 -3.23503542e+00 -3.31336331e+00 -3.20494270e+00\n",
      " -2.16123605e+00 -3.75414753e+00 -3.39454818e+00 -3.89709854e+00\n",
      " -2.76970339e+00 -4.00379956e-01 -1.38641667e+00 -3.40851724e-01\n",
      " -1.82494617e+00 -1.54583991e+00 -2.34791517e-01 -4.37987626e-01\n",
      " -2.44488811e+00 -1.70790243e+00 -5.42680740e+00 -5.06793499e+00\n",
      " -3.35684514e+00 -2.55470967e+00 -8.36887956e-02 -3.84246922e+00\n",
      " -1.22219110e+00 -2.85674119e+00  1.47463083e+00 -2.99990439e+00\n",
      " -3.52595615e+00 -1.53019571e+00 -1.13902199e+00 -1.19124150e+00\n",
      " -2.42943811e+00 -1.64431185e-01 -3.07588434e+00  1.46107465e-01\n",
      " -2.30257130e+00 -2.61655569e+00 -1.38878608e+00  9.25356567e-01\n",
      " -5.56274533e-01 -2.24191427e+00 -1.27706516e+00 -3.81105947e+00\n",
      " -4.07342052e+00 -3.78427601e+00 -1.57599831e+00 -1.25437188e+00\n",
      " -2.89463902e+00 -3.08669662e+00 -1.53925979e+00  4.93680298e-01\n",
      " -6.30841970e-01 -1.32485485e+00  2.30527639e+00 -1.21031761e+00\n",
      "  8.43604207e-01  3.97389460e+00 -1.83744967e+00  1.17649019e+00\n",
      " -3.57063699e+00 -1.03471029e+00 -4.75880432e+00 -1.54268742e+00\n",
      " -2.99842882e+00 -2.33360529e+00  1.88134575e+00  1.43436217e+00\n",
      " -5.37530363e-01 -1.35339141e-01 -1.27053034e+00  7.15309799e-01\n",
      " -4.15922976e+00 -2.60773182e+00 -6.72985137e-01 -5.63946128e-01\n",
      " -2.93892837e+00 -2.03166270e+00 -2.83185363e+00 -1.64586759e+00\n",
      " -2.04974079e+00 -2.86581564e+00 -3.00271225e+00 -3.29891372e+00\n",
      " -4.63226891e+00 -5.41993952e+00 -1.12554109e+00 -9.63595629e-01\n",
      " -1.77525735e+00  2.16766834e-01 -4.61177319e-01  9.57316101e-01\n",
      " -1.54383492e+00 -3.58837485e+00 -6.80228949e-01 -1.15599215e-01\n",
      "  1.19685471e-01 -7.39025772e-01  4.04193997e-02  4.61941290e+00\n",
      "  1.27892244e+00 -1.90798461e-01 -1.72818637e+00 -1.20401275e+00\n",
      "  3.26063186e-01  2.25882530e+00 -3.08934832e+00 -2.95101500e+00\n",
      " -6.95944488e-01 -3.88155770e+00  1.12119043e+00 -1.54162395e+00\n",
      "  1.98672146e-01 -1.45783424e-01  1.55371189e+00 -2.26426339e+00\n",
      " -1.13088202e+00 -3.06942058e+00 -3.30048251e+00 -2.80566645e+00\n",
      "  4.01716828e-02 -2.57049942e+00 -1.22948080e-01 -1.91113377e+00\n",
      " -3.30189347e+00 -2.56953716e+00 -1.46385026e+00 -2.36276531e+00\n",
      " -1.84014559e+00 -1.69793379e+00 -2.56290603e+00 -3.40535855e+00\n",
      " -2.25762630e+00  9.75250900e-01 -7.22270966e-01 -1.44685543e+00\n",
      " -8.57523561e-01  1.34722352e+00 -2.49363852e+00  1.52841926e-01\n",
      " -3.52744401e-01 -1.45246387e+00 -8.52479994e-01 -9.05048370e-01\n",
      " -1.50817204e+00  5.36148190e-01 -5.19076526e-01 -2.06196904e+00\n",
      "  3.18638802e-01 -2.04590392e+00 -1.73788810e+00 -3.15462828e-01\n",
      " -2.28683400e+00 -1.89950907e+00 -2.44830465e+00  8.54493976e-01\n",
      " -1.70411050e+00  1.63437366e-01 -8.43179882e-01 -2.86243176e+00\n",
      " -4.79772687e-01  6.53617084e-01 -1.30472398e+00  1.04615211e+00\n",
      " -2.06823564e+00 -1.00206888e+00  3.47714901e-01 -1.41887689e+00\n",
      " -1.80776596e+00  8.58969688e-01 -2.14774084e+00  1.74653995e+00\n",
      " -1.23668456e+00 -1.99451685e+00 -9.73961294e-01  8.18705618e-01\n",
      "  2.14355302e+00  3.46309483e-01  9.05410171e-01 -1.87697351e-01\n",
      " -1.23043859e+00 -7.67912388e-01 -5.18300414e-01 -9.40061808e-01\n",
      " -2.34096050e+00 -4.91674125e-01 -5.17205477e-01  8.87051225e-02\n",
      " -2.84242606e+00 -1.77854443e+00  2.09074020e-02 -8.35286379e-01\n",
      " -2.21170735e+00 -2.51843977e+00 -3.74308050e-01 -8.44521403e-01\n",
      " -1.38359368e-02 -9.61147606e-01  2.05863521e-01  5.32567143e-01\n",
      " -8.89895439e-01 -1.65068030e+00 -2.81437814e-01 -1.42396331e+00\n",
      "  1.16966450e+00 -1.91978705e+00 -3.71748567e+00 -1.74275982e+00\n",
      "  1.51334822e+00  1.07182336e+00  1.59228444e+00 -3.04740936e-01\n",
      " -4.90772784e-01 -6.42775953e-01  4.99163121e-01  1.47464871e-02\n",
      "  3.00721765e-01 -8.69890332e-01 -2.15495110e+00 -7.64545500e-01\n",
      " -1.64678311e+00  2.33585215e+00  7.48401284e-02  1.47923791e+00\n",
      " -5.69326431e-02 -1.73447132e+00 -1.07647491e+00 -2.28803444e+00\n",
      " -3.31637836e+00 -2.77025652e+00 -2.08002329e+00 -5.13714671e-01\n",
      " -2.22763228e+00  8.06334138e-01 -3.96254897e-01 -1.09356678e+00\n",
      "  5.58498740e-01 -3.55665356e-01  1.07534432e+00 -1.60141373e+00\n",
      " -1.28426814e+00 -1.11848354e+00 -7.61131763e-01 -1.66733217e+00\n",
      " -1.16792250e+00 -2.19511062e-01 -1.16429293e+00 -1.71634889e+00\n",
      " -6.77799702e-01 -2.03266191e+00 -7.04003096e-01 -1.19686651e+00\n",
      "  2.39622891e-02 -1.31607413e+00 -1.83463550e+00 -6.82512045e-01\n",
      " -8.97101879e-01 -1.87303007e-01  2.00080156e+00 -4.86689508e-01\n",
      "  4.07008886e-01  4.96128529e-01 -6.54608369e-01 -6.52572751e-01\n",
      "  2.62233853e-01  6.11945033e-01  5.27658105e-01  2.35221362e+00\n",
      "  1.85819304e+00  8.14235032e-01  1.23171139e+00  1.44547868e+00\n",
      "  1.04505587e+00  1.17789567e+00 -1.16807008e+00 -1.13850236e+00\n",
      " -7.58108199e-01 -3.66616547e-01 -3.44173765e+00 -5.39873183e-01\n",
      " -8.74346375e-01  2.13730633e-01 -6.05946183e-02 -1.64227545e+00\n",
      "  1.85436749e+00 -8.94432902e-01  1.01178193e+00  1.23152220e+00\n",
      "  5.28094649e-01 -2.48628187e+00  3.40769202e-01 -1.08868313e+00\n",
      " -2.49296331e+00 -2.27531910e+00 -8.97626281e-02 -9.57453012e-01\n",
      " -5.59330761e-01 -2.40799665e+00  1.63559270e+00 -2.10424447e+00\n",
      " -6.29660785e-01 -8.49373937e-01  2.24078560e+00 -1.15784001e+00\n",
      " -3.12338114e+00 -2.69751692e+00  1.09754205e-02 -8.23353171e-01\n",
      " -2.20555639e+00 -3.11815548e+00 -1.18137836e+00 -2.85311866e+00\n",
      " -2.12331152e+00 -3.64835835e+00 -1.79537141e+00 -1.03931689e+00\n",
      " -1.03211939e-01  1.76822948e+00  2.34253377e-01  2.36256933e+00\n",
      " -5.82081139e-01 -1.05487299e+00 -1.21324909e+00 -3.59099507e-02\n",
      " -2.12548876e+00 -1.38318014e+00 -1.69878376e+00 -3.47400737e+00\n",
      " -1.70321092e-01  6.19640350e-01 -1.63425177e-01 -1.70240784e+00\n",
      " -1.91777825e+00 -2.35031462e+00 -2.86206579e+00 -1.66897285e+00\n",
      " -2.29896498e+00 -1.82037306e+00 -1.17529452e-01 -1.18189812e+00\n",
      " -2.91305804e+00  4.70858604e-01 -6.36960268e-02  2.52592802e-01\n",
      "  1.07139277e+00 -3.22462499e-01  1.20581865e+00 -2.54371196e-01\n",
      " -2.77584076e+00  1.82119936e-01  7.34622598e-01 -5.91825902e-01\n",
      " -3.09684277e+00 -2.04486418e+00 -2.90326405e+00 -8.44745874e-01\n",
      " -2.35097170e+00 -3.56463957e+00 -6.49862707e-01  9.14201975e-01\n",
      " -2.03893766e-01  3.39358300e-01 -1.64857888e+00 -2.64880753e+00\n",
      "  1.16306949e+00 -1.34111905e+00 -3.02406996e-01 -4.02089405e+00\n",
      " -9.62112129e-01 -4.21027040e+00 -2.02151728e+00 -1.49238014e+00\n",
      " -1.08936501e+00  1.72769976e+00 -1.96641058e-01 -3.56146288e+00\n",
      " -3.81441092e+00 -1.85807586e+00 -2.36282682e+00 -1.61884046e+00\n",
      "  6.06582165e-02 -2.78945255e+00 -1.09458232e+00 -2.62854189e-01\n",
      " -2.67926908e+00 -3.14736605e+00  5.67719996e-01  2.69288445e+00\n",
      "  8.04426491e-01 -8.60558629e-01 -1.03955078e+00 -2.86393070e+00\n",
      " -6.47148609e-01  1.63963056e+00 -9.79847074e-01 -3.76256657e+00\n",
      " -3.65454054e+00  4.32125473e+00 -3.79780960e+00  5.01381159e-01\n",
      "  7.82352567e-01  3.16748530e-01 -1.12282127e-01  2.85645187e-01\n",
      "  2.33208108e+00  1.29276007e-01  4.90087318e+00  7.80300522e+00\n",
      " -1.06349349e+00  1.53767020e-01 -2.29546309e-01 -1.02861047e-01\n",
      " -2.41857576e+00 -2.55290461e+00  1.11117601e+00  9.73791957e-01\n",
      " -1.08136439e+00 -1.96357417e+00 -1.80514264e+00  1.76233947e+00\n",
      "  8.02093267e-01  3.29410720e+00  2.34516954e+00  2.48747015e+00\n",
      " -2.14505911e+00 -7.61753321e-02  5.11660337e+00 -6.24116898e-01\n",
      " -5.79258680e-01  5.99899650e-01  5.19263983e-01  3.98685813e+00\n",
      " -8.20792794e-01  9.01394188e-01  3.43842220e+00  4.53717500e-01\n",
      " -2.53769636e+00 -3.43577743e+00 -9.36459601e-01  3.14736676e+00\n",
      "  7.74545252e-01 -7.42919743e-03 -1.13363266e+00  1.05763781e+00\n",
      "  1.20594084e-01  1.31385708e+00 -1.73731059e-01  3.68890619e+00\n",
      " -2.64309978e+00  6.65170193e-01 -6.29110992e-01  1.42703700e+00\n",
      "  2.71952868e+00  3.48417830e+00 -8.73404622e-01 -5.43595612e-01\n",
      " -2.89545488e+00 -1.02310324e+00  3.30124402e+00 -1.60093021e+00\n",
      " -2.90441704e+00  6.74075508e+00  1.03769708e+00 -2.93760872e+00\n",
      " -3.64164352e+00  2.87921572e+00  3.32128191e+00 -1.05428100e+00\n",
      "  3.39577317e+00  1.94787192e+00  1.95714486e+00 -3.48953605e+00\n",
      " -1.26526618e+00  2.28290534e+00 -1.71144295e+00  2.83181357e+00\n",
      "  3.35604715e+00 -1.68636888e-01  1.53187275e+00  1.76854920e+00\n",
      " -3.02583575e-02 -8.76406431e-01  5.73332787e-01 -8.83209944e-01\n",
      "  3.61511260e-01 -1.96655679e+00 -8.41014922e-01  5.66438866e+00\n",
      " -1.63353395e+00 -3.18412364e-01  9.59315062e-01  4.01322699e+00\n",
      "  2.47014141e+00  9.76433039e-01  1.97255611e-03  2.25579000e+00\n",
      "  3.22280955e+00 -1.35961843e+00 -3.05243850e-01 -1.19163382e+00\n",
      "  3.14769793e+00  6.02422953e-02 -1.25144684e+00 -5.98901212e-02\n",
      "  1.89241862e+00 -3.82942617e-01  3.73237491e-01  5.60397983e-01\n",
      "  1.36279655e+00  1.65754092e+00  1.52136636e+00  1.08355975e+00\n",
      "  3.77497375e-01 -1.64176404e+00  5.49716949e-01  2.49874878e+00\n",
      "  1.52174878e+00  3.27587461e+00  5.05949116e+00  3.35560417e+00\n",
      "  1.09890151e+00  3.48650545e-01  4.75577974e+00 -7.45777011e-01\n",
      " -3.11835027e+00 -1.73344231e+00 -1.02730036e+00  1.79683685e+00\n",
      "  3.01328599e-01 -7.02645421e-01  1.67566717e+00  2.58025622e+00\n",
      " -9.39565957e-01  2.33305788e+00 -4.58658934e-02 -3.13299704e+00\n",
      " -9.52095628e-01  8.63602257e+00  1.68345535e+00  6.34757423e+00\n",
      "  2.60880709e-01 -2.48955503e-01 -1.28783792e-01 -2.87395954e+00\n",
      "  2.27430010e+00 -1.48893094e+00  4.50794220e-01  2.11739230e+00\n",
      " -6.93395734e-01 -1.87071848e+00 -1.46357465e+00  3.20300460e-01\n",
      " -2.05423999e+00 -7.15227008e-01  5.65456867e-01  2.26898646e+00\n",
      "  8.32974076e-01 -2.39465237e+00  3.45269775e+00  5.26188731e-01\n",
      " -1.33159757e-01 -1.77968597e+00  4.99585092e-01 -1.84830999e+00\n",
      " -2.68684244e+00  1.03732896e+00  1.41946077e+00 -1.38130045e+00\n",
      " -3.08814168e+00 -3.97123122e+00 -1.44413936e+00  1.67488098e+00\n",
      "  3.26291680e+00  4.89801311e+00 -1.00447047e+00  2.20053744e+00\n",
      "  2.56810284e+00  4.83444405e+00  4.38177586e+00  4.29302502e+00\n",
      "  1.18648386e+00  2.71774101e+00 -1.17045283e+00 -1.38048506e+00\n",
      "  8.11999440e-01 -1.19694877e+00 -1.33736879e-01  2.19824481e+00\n",
      "  4.34135294e+00  8.83503675e-01 -3.37791026e-01 -2.53943658e+00\n",
      "  4.32882309e+00  3.96136928e+00  4.34838724e+00 -1.35176468e+00\n",
      "  2.74681377e+00 -2.23076701e+00  3.39633751e+00  2.52663565e+00\n",
      " -1.67300439e+00  2.82348132e+00 -1.44764352e+00  4.78675175e+00\n",
      "  7.27813363e-01  7.09273052e+00  2.13083220e+00  9.42832172e-01\n",
      "  2.85311937e+00 -9.42902625e-01  1.16689527e+00  4.35057259e+00\n",
      " -5.23765445e-01 -1.65824735e+00  3.23461199e+00 -4.35349226e-01\n",
      " -6.30584598e-01  5.74334431e+00  9.52599108e-01  6.89673710e+00\n",
      "  3.17325950e+00  2.88855338e+00 -1.60918558e+00  3.35695243e+00\n",
      "  2.19846535e+00  2.35715210e-01  2.55078506e+00  2.28348541e+00\n",
      " -1.53426719e+00  2.61857605e+00  2.11324930e-01  1.11363268e+00\n",
      "  2.31234694e+00 -3.57994413e+00  2.72934985e+00  4.34993029e+00\n",
      "  2.98111773e+00  1.60687411e+00  4.49253130e+00  3.87101412e+00\n",
      "  6.02189302e-01  1.82262778e+00 -1.83269179e+00  8.90551984e-01\n",
      " -1.53824830e+00  7.55492032e-01  1.23663056e+00  2.35821104e+00\n",
      " -1.16293931e+00 -3.84340286e+00  4.59761906e+00 -3.15373254e+00\n",
      "  1.51213717e+00 -1.65098310e+00  3.29274988e+00  4.63812679e-01\n",
      " -1.26277876e+00 -1.73007298e+00 -1.21405482e+00 -1.46216846e+00\n",
      " -1.85510826e+00  5.93959236e+00  4.15420198e+00 -9.01014268e-01\n",
      "  2.52042532e+00  3.16508412e+00  4.46119118e+00  6.34307921e-01\n",
      "  8.84936714e+00  3.69781423e+00 -6.97381735e-01  1.08966458e+00\n",
      "  2.48222423e+00 -1.16317964e+00  3.06809092e+00 -1.41373408e+00\n",
      "  5.24072123e+00 -9.58334684e-01 -3.64864612e+00  3.59720850e+00\n",
      "  5.61292648e+00  7.38805771e-01 -2.31748009e+00  6.54017627e-01\n",
      "  2.84996557e+00  1.73367238e+00 -2.94145727e+00  2.76555061e+00\n",
      "  6.51300907e+00  2.94745326e-01  1.32305241e+00 -1.85945868e+00\n",
      "  8.80110264e-03 -3.16160750e+00 -2.30642962e+00 -4.82873291e-01\n",
      "  1.14036632e+00  2.67761350e+00  1.34884870e+00  5.64071417e+00\n",
      "  3.90257573e+00  3.17200685e+00  3.13979363e+00  1.36576653e-01\n",
      "  2.83563375e+00 -4.21900463e+00 -3.24860871e-01  1.15577173e+00\n",
      "  6.92038918e+00  2.17717505e+00  6.32493138e-01 -6.62085891e-01\n",
      " -3.76903248e+00  1.41168404e+00  1.95914721e+00  7.90440559e-01\n",
      "  2.29948282e+00  5.65637112e+00 -3.00012112e-01  2.89824867e+00\n",
      "  1.21453834e+00  5.38273811e-01 -4.22785091e+00 -1.08431005e+00\n",
      " -2.79076672e+00  6.94728136e-01 -1.31611967e+00  1.25070786e+00\n",
      "  1.27334440e+00  7.47017860e-01  3.69848299e+00 -1.52599990e+00\n",
      "  1.87894535e+00  3.60201538e-01  2.92551517e-01  9.97405887e-01\n",
      "  1.05376589e+00  2.91696692e+00  1.70305574e+00 -5.10748148e-01\n",
      "  3.20564449e-01  2.20525932e+00  2.91478062e+00  1.47295833e+00\n",
      " -4.54113901e-01 -1.07877123e+00  1.04941952e+00  9.49019670e-01\n",
      "  2.10922861e+00  5.40041924e+00 -1.72126985e+00  8.27470660e-01\n",
      "  9.32409406e-01  1.74625504e+00  1.14034545e+00  5.43315125e+00\n",
      " -1.09418797e+00  5.49329901e+00  2.14471638e-01 -2.89380193e-01\n",
      "  6.89360762e+00  1.98845267e+00  1.57159352e+00 -4.46249962e-01\n",
      "  7.34880805e-01  1.25425744e+00  2.37339354e+00 -2.74408221e+00\n",
      " -6.29308224e-01  1.10255766e+00  4.85710812e+00  2.39425802e+00\n",
      "  3.91165447e+00  2.53151417e-01  1.75458097e+00  6.32169545e-02\n",
      " -1.66546583e+00  6.12264812e-01  9.14172411e-01 -1.86551356e+00\n",
      "  1.72120690e+00  2.87847018e+00  3.43508506e+00  9.59346116e-01\n",
      "  7.51084089e-02  1.11558759e+00  4.38510323e+00  4.39035207e-01\n",
      " -1.83416754e-01 -9.00750458e-02 -1.98751450e+00 -1.99412251e+00\n",
      "  4.03222561e+00 -2.36332607e+00  1.98029780e+00  1.51144814e+00\n",
      "  2.75227576e-01  1.42730743e-01  3.59120989e+00  3.30556965e+00\n",
      "  3.59922075e+00  5.53891659e+00 -1.29405534e+00 -2.68386412e+00\n",
      " -2.14168596e+00 -1.96549749e+00  3.72542143e+00 -1.55175817e+00\n",
      " -2.97993445e+00 -1.57895327e+00 -9.19205785e-01  4.46082735e+00\n",
      "  1.69195592e+00 -6.56756908e-02  4.00640106e+00  4.37924623e-01\n",
      "  3.39991283e+00 -2.60538101e+00  4.96776581e-01  3.53679609e+00\n",
      " -7.41824269e-01 -1.23794675e+00  2.39424586e+00 -1.15192068e+00\n",
      "  1.72836590e+00  1.75363994e+00  6.52478981e+00 -2.34661627e+00\n",
      "  2.21422601e+00  3.08748245e+00  4.28382307e-01 -1.72912002e-01\n",
      "  6.34901142e+00  4.35400105e+00  1.78806853e+00 -2.12607002e+00\n",
      "  1.62395716e+00 -1.84845650e+00 -1.11070192e+00  2.55470252e+00\n",
      "  1.36340034e+00 -3.02051258e+00  1.41658974e+00  2.74673963e+00\n",
      " -7.59855211e-01 -4.58892107e-01 -1.36119497e+00  5.28375530e+00\n",
      "  2.02810240e+00  5.13992500e+00  1.21272850e+00 -3.44540453e+00\n",
      " -2.98332429e+00 -1.11287153e+00 -1.16940045e+00 -6.27952278e-01\n",
      "  3.84226727e+00  1.13675904e+00 -8.28250408e-01 -1.09816456e+00\n",
      "  1.52514660e+00  2.31299251e-02 -3.17014694e+00 -5.62131941e-01\n",
      "  1.08413279e-01 -7.16091871e-01  2.91967249e+00 -2.52814388e+00\n",
      " -1.66929555e+00 -1.08302760e+00  3.05991030e+00  3.15875626e+00\n",
      " -4.79760289e-01  3.07681322e+00  2.26789546e+00  1.44391680e+00\n",
      " -2.21075583e+00 -5.19440174e-02 -6.76895499e-01  1.43315673e+00\n",
      "  4.93328667e+00  9.20253873e-01  3.20447350e+00 -1.15698636e-01\n",
      "  1.97580886e+00  2.56443691e+00  2.73358250e+00  3.16584969e+00\n",
      " -7.53834844e-01  2.11108446e+00  4.75985909e+00  2.64286733e+00\n",
      "  2.20505431e-01  2.28846931e+00  4.28500843e+00  1.22539473e+00\n",
      " -1.35875797e+00 -5.87824941e-01  2.32797217e+00  3.68912554e+00\n",
      " -1.88146758e+00 -1.69945741e+00  7.30151892e-01 -3.76369047e+00\n",
      "  8.57917023e+00  1.94770086e+00  2.42498755e+00  3.39488834e-01\n",
      "  7.44110942e-02  5.48502254e+00  2.11760139e+00  2.54518104e+00\n",
      "  3.38678896e-01  1.25170112e+00 -2.03258872e+00 -2.49306870e+00\n",
      " -1.55251491e+00  2.15373373e+00  1.88453722e+00  4.07210588e-02\n",
      "  2.37997591e-01 -1.51887894e+00  1.83472753e+00 -7.67112970e-02\n",
      "  1.62117064e-01 -1.30587697e-01 -7.77740061e-01 -6.55772448e-01\n",
      " -1.07194519e+00 -1.66626096e+00  9.98586714e-01  5.00276625e-01\n",
      " -1.53481925e+00 -1.00755310e+00 -1.81978643e+00 -1.56846046e+00\n",
      "  1.17513633e+00 -1.02624500e+00 -1.14454091e+00 -1.32743955e+00\n",
      " -2.54959917e+00 -1.84781790e+00  7.28674412e-01 -1.92893434e+00\n",
      " -6.83935106e-01 -2.89932275e+00 -1.00248551e+00 -3.39851260e-01\n",
      " -3.39000225e-02  2.04599357e+00  1.03236985e+00 -1.69572830e+00\n",
      "  1.29219198e+00  1.19875968e+00  2.20590258e+00 -1.17721915e-01\n",
      "  3.12276769e+00  2.36477971e+00  4.11778539e-02 -3.52901578e-01\n",
      " -8.10535789e-01 -1.42264104e+00 -1.20389342e-01 -1.54953659e-01\n",
      " -1.84604442e+00  6.37104034e-01  9.81429577e-01 -2.18652511e+00\n",
      " -1.89739943e+00 -8.83154511e-01 -5.37789613e-02 -1.14829373e+00\n",
      " -5.75591207e-01 -8.68925929e-01 -4.39392424e+00  2.09867859e+00\n",
      " -2.29051304e+00 -4.02432442e+00 -3.06478357e+00 -3.21113914e-01\n",
      " -4.45680809e+00 -1.95011783e+00 -2.18557835e+00 -1.88384712e+00\n",
      "  8.45706940e-01 -2.90926743e+00  1.09553576e+00  3.46188283e+00]\n",
      "\n",
      "\n",
      "(1000,)\n"
     ]
    }
   ],
   "source": [
    "#Feature Extraction with CNN\n",
    "# main.py\n",
    "import torch\n",
    "import torchvision.models as models\n",
    "import torchvision.transforms as transforms\n",
    "from PIL import Image\n",
    "\n",
    "# Load a pre-trained ResNet model\n",
    "resnet = models.resnet50(pretrained=True)\n",
    "resnet.eval()\n",
    "\n",
    "# Image preprocessing function\n",
    "transform = transforms.Compose([\n",
    "    transforms.Resize((224, 224)),\n",
    "    transforms.ToTensor(),\n",
    "])\n",
    "\n",
    "def extract_image_features(image_path):\n",
    "    image = Image.open(image_path)\n",
    "    image = transform(image).unsqueeze(0)\n",
    "    with torch.no_grad():\n",
    "        features = resnet(image)\n",
    "    return features.numpy().flatten()\n",
    "\n",
    "# Example usage\n",
    "image_features = extract_image_features(sample_image_path)\n",
    "print(\"\\n\")\n",
    "print(image_features)\n",
    "print(\"\\n\")\n",
    "print(image_features.shape)"
   ]
  },
  {
   "cell_type": "code",
   "execution_count": 55,
   "id": "70c3e0c4",
   "metadata": {},
   "outputs": [
    {
     "name": "stdout",
     "output_type": "stream",
     "text": [
      "\n"
     ]
    }
   ],
   "source": [
    "#Data Processing\n",
    "import re\n",
    "\n",
    "def extract_entity_value(extracted_text):\n",
    "    # Simple regex pattern to extract \"number unit\" format\n",
    "    pattern = r'(\\d+(\\.\\d+)?)\\s*(gram|kilogram|centimetre|inch|ounce)'\n",
    "    match = re.search(pattern, extracted_text)\n",
    "    if match:\n",
    "        return f\"{match.group(1)} {match.group(3)}\"\n",
    "    return \"\"\n",
    "\n",
    "# Example usage\n",
    "entity_value = extract_entity_value(extracted_text)\n",
    "print(entity_value)"
   ]
  },
  {
   "cell_type": "code",
   "execution_count": 56,
   "id": "d3575e79",
   "metadata": {},
   "outputs": [
    {
     "name": "stdout",
     "output_type": "stream",
     "text": [
      "Index(['image_link', 'group_id', 'entity_name', 'entity_value'], dtype='object')\n",
      "Index(['index', 'image_link', 'group_id', 'entity_name'], dtype='object')\n"
     ]
    }
   ],
   "source": [
    "#Checking Columns\n",
    "print(train_df.columns)\n",
    "print(test_df.columns)"
   ]
  },
  {
   "cell_type": "code",
   "execution_count": 44,
   "id": "87079f97",
   "metadata": {},
   "outputs": [
    {
     "data": {
      "text/plain": [
       "'110EibNyclL.jpg'"
      ]
     },
     "execution_count": 44,
     "metadata": {},
     "output_type": "execute_result"
    }
   ],
   "source": [
    "\n",
    "# print(train_df.head())\n",
    "\n",
    "link=test_df.head()['image_link'][0]\n",
    "Path(link).name"
   ]
  },
  {
   "cell_type": "code",
   "execution_count": 13,
   "id": "f1477131",
   "metadata": {},
   "outputs": [
    {
     "ename": "FileNotFoundError",
     "evalue": "[Errno 2] No such file or directory: '/Users/shubham/Downloads/7th Sem/Amazon ML/student_resource 3/images/0.jpg'",
     "output_type": "error",
     "traceback": [
      "\u001b[0;31m---------------------------------------------------------------------------\u001b[0m",
      "\u001b[0;31mFileNotFoundError\u001b[0m                         Traceback (most recent call last)",
      "Cell \u001b[0;32mIn[13], line 10\u001b[0m\n\u001b[1;32m      6\u001b[0m \u001b[38;5;28;01mfrom\u001b[39;00m \u001b[38;5;21;01msklearn\u001b[39;00m\u001b[38;5;21;01m.\u001b[39;00m\u001b[38;5;21;01mfeature_extraction\u001b[39;00m\u001b[38;5;21;01m.\u001b[39;00m\u001b[38;5;21;01mtext\u001b[39;00m \u001b[38;5;28;01mimport\u001b[39;00m TfidfVectorizer\n\u001b[1;32m      8\u001b[0m \u001b[38;5;66;03m# Prepare training data\u001b[39;00m\n\u001b[1;32m      9\u001b[0m \u001b[38;5;66;03m# Extract image features using the DataFrame's own index for training data\u001b[39;00m\n\u001b[0;32m---> 10\u001b[0m X_image_features \u001b[38;5;241m=\u001b[39m [\u001b[43mextract_image_features\u001b[49m\u001b[43m(\u001b[49m\u001b[38;5;124;43mf\u001b[39;49m\u001b[38;5;124;43m'\u001b[39;49m\u001b[38;5;124;43m../images/\u001b[39;49m\u001b[38;5;132;43;01m{\u001b[39;49;00m\u001b[43midx\u001b[49m\u001b[38;5;132;43;01m}\u001b[39;49;00m\u001b[38;5;124;43m.jpg\u001b[39;49m\u001b[38;5;124;43m'\u001b[39;49m\u001b[43m)\u001b[49m \u001b[38;5;28;01mfor\u001b[39;00m idx \u001b[38;5;129;01min\u001b[39;00m train_df\u001b[38;5;241m.\u001b[39mindex]\n\u001b[1;32m     12\u001b[0m \u001b[38;5;66;03m# Extract text features for training data\u001b[39;00m\n\u001b[1;32m     13\u001b[0m X_text_features \u001b[38;5;241m=\u001b[39m [extract_text_from_image(\u001b[38;5;124mf\u001b[39m\u001b[38;5;124m'\u001b[39m\u001b[38;5;124m../images/\u001b[39m\u001b[38;5;132;01m{\u001b[39;00midx\u001b[38;5;132;01m}\u001b[39;00m\u001b[38;5;124m.jpg\u001b[39m\u001b[38;5;124m'\u001b[39m) \u001b[38;5;28;01mfor\u001b[39;00m idx \u001b[38;5;129;01min\u001b[39;00m train_df\u001b[38;5;241m.\u001b[39mindex]\n",
      "Cell \u001b[0;32mIn[6], line 19\u001b[0m, in \u001b[0;36mextract_image_features\u001b[0;34m(image_path)\u001b[0m\n\u001b[1;32m     18\u001b[0m \u001b[38;5;28;01mdef\u001b[39;00m \u001b[38;5;21mextract_image_features\u001b[39m(image_path):\n\u001b[0;32m---> 19\u001b[0m     image \u001b[38;5;241m=\u001b[39m \u001b[43mImage\u001b[49m\u001b[38;5;241;43m.\u001b[39;49m\u001b[43mopen\u001b[49m\u001b[43m(\u001b[49m\u001b[43mimage_path\u001b[49m\u001b[43m)\u001b[49m\n\u001b[1;32m     20\u001b[0m     image \u001b[38;5;241m=\u001b[39m transform(image)\u001b[38;5;241m.\u001b[39munsqueeze(\u001b[38;5;241m0\u001b[39m)\n\u001b[1;32m     21\u001b[0m     \u001b[38;5;28;01mwith\u001b[39;00m torch\u001b[38;5;241m.\u001b[39mno_grad():\n",
      "File \u001b[0;32m~/Downloads/7th Sem/Amazon ML/shubham/lib/python3.12/site-packages/PIL/Image.py:3431\u001b[0m, in \u001b[0;36mopen\u001b[0;34m(fp, mode, formats)\u001b[0m\n\u001b[1;32m   3428\u001b[0m     filename \u001b[38;5;241m=\u001b[39m os\u001b[38;5;241m.\u001b[39mpath\u001b[38;5;241m.\u001b[39mrealpath(os\u001b[38;5;241m.\u001b[39mfspath(fp))\n\u001b[1;32m   3430\u001b[0m \u001b[38;5;28;01mif\u001b[39;00m filename:\n\u001b[0;32m-> 3431\u001b[0m     fp \u001b[38;5;241m=\u001b[39m \u001b[43mbuiltins\u001b[49m\u001b[38;5;241;43m.\u001b[39;49m\u001b[43mopen\u001b[49m\u001b[43m(\u001b[49m\u001b[43mfilename\u001b[49m\u001b[43m,\u001b[49m\u001b[43m \u001b[49m\u001b[38;5;124;43m\"\u001b[39;49m\u001b[38;5;124;43mrb\u001b[39;49m\u001b[38;5;124;43m\"\u001b[39;49m\u001b[43m)\u001b[49m\n\u001b[1;32m   3432\u001b[0m     exclusive_fp \u001b[38;5;241m=\u001b[39m \u001b[38;5;28;01mTrue\u001b[39;00m\n\u001b[1;32m   3433\u001b[0m \u001b[38;5;28;01melse\u001b[39;00m:\n",
      "\u001b[0;31mFileNotFoundError\u001b[0m: [Errno 2] No such file or directory: '/Users/shubham/Downloads/7th Sem/Amazon ML/student_resource 3/images/0.jpg'"
     ]
    }
   ],
   "source": [
    "# Model Training\n",
    "from sklearn.model_selection import train_test_split\n",
    "from sklearn.ensemble import RandomForestClassifier\n",
    "from sklearn.preprocessing import LabelEncoder\n",
    "from sklearn.pipeline import Pipeline\n",
    "from sklearn.feature_extraction.text import TfidfVectorizer\n",
    "\n",
    "# Prepare training data\n",
    "# Extract image features using the DataFrame's own index for training data\n",
    "X_image_features = [extract_image_features(f'../images/{idx}.jpg') for idx in train_df.index]\n",
    "\n",
    "# Extract text features for training data\n",
    "X_text_features = [extract_text_from_image(f'../images/{idx}.jpg') for idx in train_df.index]\n",
    "\n",
    "# Assuming 'test_df' is your DataFrame for the test set\n",
    "# Extract image features using the 'index' column for test data\n",
    "X_test_image_features = [extract_image_features(f'../images/{idx}.jpg') for idx in test_df['index']]\n",
    "\n",
    "# Extract text features for test data\n",
    "X_test_text_features = [extract_text_from_image(f'../images/{idx}.jpg') for idx in test_df['index']]\n",
    "\n",
    "# Encode the target variable\n",
    "y = train_df['entity_value']\n",
    "label_encoder = LabelEncoder()\n",
    "y_encoded = label_encoder.fit_transform(y)\n",
    "\n",
    "# Split data\n",
    "X_train_img, X_test_img, X_train_text, X_test_text, y_train, y_test = train_test_split(\n",
    "    X_image_features, X_text_features, y_encoded, test_size=0.2, random_state=42)\n",
    "\n",
    "# Combine image and text features in a pipeline\n",
    "model_pipeline = Pipeline([\n",
    "    ('vectorizer', TfidfVectorizer()),\n",
    "    ('classifier', RandomForestClassifier(n_estimators=100, random_state=42))\n",
    "])\n",
    "\n",
    "# Train the model using image features only for simplicity\n",
    "model_pipeline.fit(X_train_text, y_train)\n",
    "\n",
    "# Evaluate the model\n",
    "print(f\"Training accuracy: {model_pipeline.score(X_test_text, y_test)}\")"
   ]
  }
 ],
 "metadata": {
  "kernelspec": {
   "display_name": "shubham",
   "language": "python",
   "name": "python3"
  },
  "language_info": {
   "codemirror_mode": {
    "name": "ipython",
    "version": 3
   },
   "file_extension": ".py",
   "mimetype": "text/x-python",
   "name": "python",
   "nbconvert_exporter": "python",
   "pygments_lexer": "ipython3",
   "version": "3.12.3"
  }
 },
 "nbformat": 4,
 "nbformat_minor": 5
}
