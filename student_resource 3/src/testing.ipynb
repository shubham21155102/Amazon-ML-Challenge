{
 "cells": [
  {
   "cell_type": "code",
   "execution_count": 1,
   "metadata": {},
   "outputs": [],
   "source": [
    "import os\n",
    "import pandas as pd"
   ]
  },
  {
   "cell_type": "code",
   "execution_count": 2,
   "metadata": {},
   "outputs": [],
   "source": [
    "DATASET_FOLDER = '../dataset/'\n",
    "train_500 = pd.read_csv(os.path.join(DATASET_FOLDER, 'train_500.csv'))"
   ]
  },
  {
   "cell_type": "code",
   "execution_count": 3,
   "metadata": {},
   "outputs": [
    {
     "name": "stderr",
     "output_type": "stream",
     "text": [
      "100%|██████████| 10/10 [00:01<00:00,  7.57it/s]\n"
     ]
    }
   ],
   "source": [
    "from utils import download_images\n",
    "download_images(train_500['image_link'], '../images')"
   ]
  },
  {
   "cell_type": "code",
   "execution_count": 4,
   "metadata": {},
   "outputs": [
    {
     "name": "stderr",
     "output_type": "stream",
     "text": [
      "/Users/shubham/Downloads/7th Sem/Amazon ML/shubham/lib/python3.12/site-packages/easyocr/detection.py:85: FutureWarning: You are using `torch.load` with `weights_only=False` (the current default value), which uses the default pickle module implicitly. It is possible to construct malicious pickle data which will execute arbitrary code during unpickling (See https://github.com/pytorch/pytorch/blob/main/SECURITY.md#untrusted-models for more details). In a future release, the default value for `weights_only` will be flipped to `True`. This limits the functions that could be executed during unpickling. Arbitrary objects will no longer be allowed to be loaded via this mode unless they are explicitly allowlisted by the user via `torch.serialization.add_safe_globals`. We recommend you start setting `weights_only=True` for any use case where you don't have full control of the loaded file. Please open an issue on GitHub for any issues related to this experimental feature.\n",
      "  net.load_state_dict(copyStateDict(torch.load(trained_model, map_location=device)))\n",
      "/Users/shubham/Downloads/7th Sem/Amazon ML/shubham/lib/python3.12/site-packages/easyocr/recognition.py:182: FutureWarning: You are using `torch.load` with `weights_only=False` (the current default value), which uses the default pickle module implicitly. It is possible to construct malicious pickle data which will execute arbitrary code during unpickling (See https://github.com/pytorch/pytorch/blob/main/SECURITY.md#untrusted-models for more details). In a future release, the default value for `weights_only` will be flipped to `True`. This limits the functions that could be executed during unpickling. Arbitrary objects will no longer be allowed to be loaded via this mode unless they are explicitly allowlisted by the user via `torch.serialization.add_safe_globals`. We recommend you start setting `weights_only=True` for any use case where you don't have full control of the loaded file. Please open an issue on GitHub for any issues related to this experimental feature.\n",
      "  model.load_state_dict(torch.load(model_path, map_location=device))\n"
     ]
    },
    {
     "name": "stdout",
     "output_type": "stream",
     "text": [
      "Extracted Text from 61I9XdN6OFL.jpg:\n",
      "PROPOS' NATURE INGREDIENT MENAGER MULTI-USAGE TERRE dE SOMMIERES 4100% NATUREL Argile 10036 pure et   naturelle Lerre Sommierespreserte desproprietes absorbantes qui permettent nelloyage sec des laches recalcitrantes Sur toutes les surfaces (moquette; tapis; parquel_- Elle est aussi efficace desodoriser linge: Ingredient Bentonite Dosage conseille Sclon usage. S[0an Lunponpacel cetl{ I 0t inunEi4 Wzouupl Rtiu fos; Lnfonr 00% R500 g JuSuac LABORATOIRE FROPOSNATURE UCUGRLDC . [uacoJi JHH4E04 Jc+raale 'Mp\"0pr-nJinecon 780 103 pour 'Pz\n",
      "Extracted Text from 71gSRbyXmoL.jpg:\n",
      "TLaeE=_ 7672 Xe RRIFIC LEBENSMITTELECHT Cwe DAV GEPRAGTES DESIGN As YQULIKE BEST Designed in V cnre Y [Bextin ] LIZENZIERTE UND GESCHITZTE DESIGNS TEA WITH cccteics\n",
      "Extracted Text from 61BZ4zrjZXL.jpg:\n",
      "COMPOSITION Serving Size: Tablet (0.709 g) Each serving contains (Approx Values): Ingredient Oty / Serving % RDA\" #PHOSPHOcomplex@ Silybin (Sillybum marianum) 200 mg Dandelion (Taraxacum officinale) leaf extract 10.1 100 mg Kutki (Picrorhiza kurroalrhizome extract 0.5% Bitters 50 mg Kasani (Cichorium intybus) seed extract - 1% Bitters 25 mg Punarnava (Boerhavia diffusa) root extract 0.07% alkaloids 25 mg # Bhui amla (Phyllanthus amarus) WP extract - 0.57 Bitters 25 mg Amla (Phyllanthus emblica) fruit extract - 10% Tannins 25 mg Licorice (Glycyrrhiza glabra) root extract 5k Glycyrrhizin 25 mg Vitamin E 10 mg 100 Piper nigrum fruit extract 957 Piperine 5 mg NUTRITIONAL INFORMATION PER SERVING (APpROX. VALUES): Nutrients Oty: / Serving %RDA\" Energy 3.04 kcal 0.13 Carbohydrate 0.51 g (Sugars) 0.2g Protein 0.04 g 0.07 Fat 0.09 g \"YRDA values established as per ICMR 2010 for sedentary lifestyle-Men #*% RDA not established by ICMR\n",
      "Extracted Text from 612mrlqiI4L.jpg:\n",
      "3 3 1 1 F IW! 1 5833 1 3 1 1 1 1 H 0 L 1 W # I 1 1  Hu I M 1 H H 1 V 1 Ji Hl U 0 H IH H Hhh 1 jj 1 Ilu 1 # 1 1 1 1 HH 1 1 1 1\n",
      "Extracted Text from 617Tl40LOXL.jpg:\n",
      "Horbaach' HIGH StRENGTH PSYLLIUM HUSK PLANTAGO OVATA 1400mG PLANT SEEDS FOOD VEGAN SUPPLEMENT 365 CAPSULES\n",
      "Extracted Text from 61QsBSE7jgL.jpg:\n",
      "Naturally-Sourced Psyllium High strength 140Omg per serving Suitable for Vegans & Vegetarians HOrbaach\" Horbaach' hiGA StREnGTh PSYLLIUM HUSK 1400mG PLANTAGO ' OVATA PLANT SEEDS FOOD SUPPLEMENT 365 VEGAN CAPSULES\n",
      "Extracted Text from 81xsq6vf2qL.jpg:\n",
      "HOrBaach Directions: For adults, take two (2) vegan capsules daily, preferably with a meal. Do not exceed stated dose Nutrition Information HIG H STRE NGTH Typically Per Daily Dose Psyllium Husk Powder 1400mg PSYLLIUM ' Ingredients: Psyllium Husk Powder , Capsule Shell (Hy- droxypropylmethylcellulose) , Anti-Caking Agents (Mag- nesium Salts of Fatty Acids, Silicon Dioxide): May contain Sesame Seeds & Mustard: For allergens, HUSK see the ingredients in bold: Notice: Take this product with 22Oml of fluids Taking this product without adequate fluid cause the pOS- PLANTAGO OVATA sibility of choking: Do not use this product if you have 140OmG difficulty swallowing: If you experience chest pain, vom- PLANT SEEDS iting or difficulty in swallowing or breathing after taking this product; seek immediate medical attention. Do not take before sleeping: Fibre products can affect the ab- sorption of many medications. Do not take this product within 1.5 hours of taking medication. Free From: Artificial Colour , Artificial Flavour, Artificial Sweetener, Preservatives: FOOD VEGAN SUPPLEMENT 365 CAPSULES SUITABLE FOR VEGETARIANS & VEGANS Hu16790 € HOcbaACh may\n",
      "Extracted Text from 71DiLRHeZdL.jpg:\n",
      "VEGAN WHEAT FREE soy FREE OVATA DAIRY FREE FREE FROM PRESERVATIVES HOrBaaCh Horbaach' StRE NGTh AIGH PSYLLIUM HUSK PLANTAGO = SEEDS PLANT = 140OmG VEGAN 365 CAPSULES FOOD SUPPLEMENT\n",
      "Extracted Text from 91Cma3RzseL.jpg:\n",
      "Horbaach V 100% HIGHEST QUALITY TO HGH GMP ) HUSK OVATA 140OmG SEEDS 365 HOcbaaCh Horbaach' GMP ( STRE NGTh PSYLLIUM ANUFACTURSS IN 4 S PLANTAGO 5 ANUFACTUR O PLANT 4 IN VEGAN CAPSULES FOOD SUPPLEMENT\n",
      "Extracted Text from 71jBLhmTNlL.jpg:\n",
      "NEW LOOK SAME TRUSTEDQUALITY OLD Horbaach NEW Horbaach' HIGh STRENGTH PSYLLIUM HIGH StRENGTh HUSK PSYLLIUM I4OOMG perving HUSK PLANTAGO OVATA 1400mG PLANT SEEDS FOOD VEGAN SUPPLEMENT 365 CAPSULES FOoD VEGAN SUPPLEMENT 365 CAPSULES PACKAGING MAY VARY HOrbaach\n"
     ]
    }
   ],
   "source": [
    "import easyocr\n",
    "import os\n",
    "from pathlib import Path\n",
    "\n",
    "# Initialize EasyOCR reader\n",
    "reader = easyocr.Reader(['en'])\n",
    "\n",
    "def extract_text_from_image(image_path):\n",
    "    try:\n",
    "        result = reader.readtext(image_path)\n",
    "        text = \" \".join([res[1] for res in result])\n",
    "        return text\n",
    "    except Exception as e:\n",
    "        print(f\"Error extracting text from image: {e}\")\n",
    "        return None\n",
    "\n",
    "# Loop through the entire DataFrame\n",
    "for index, row in train_500.iterrows():\n",
    "    # Extract the image name from the image link\n",
    "    link = row['image_link']\n",
    "    images_1 = Path(link).name\n",
    "    \n",
    "    # Construct the path to the image\n",
    "    sample_image_path = f\"../images/{images_1}\"\n",
    "    \n",
    "    # Check if the image file exists\n",
    "    if os.path.exists(sample_image_path):\n",
    "        # Extract text from the image\n",
    "        extracted_text = extract_text_from_image(sample_image_path)\n",
    "        if extracted_text:\n",
    "            print(f\"Extracted Text from {images_1}:\")\n",
    "            print(extracted_text)\n",
    "        else:\n",
    "            print(f\"No text could be extracted from {images_1}.\")\n",
    "    else:\n",
    "        print(f\"File not found: {sample_image_path}\")"
   ]
  },
  {
   "cell_type": "code",
   "execution_count": 6,
   "metadata": {},
   "outputs": [
    {
     "name": "stderr",
     "output_type": "stream",
     "text": [
      "/Users/shubham/Downloads/7th Sem/Amazon ML/shubham/lib/python3.12/site-packages/easyocr/detection.py:85: FutureWarning: You are using `torch.load` with `weights_only=False` (the current default value), which uses the default pickle module implicitly. It is possible to construct malicious pickle data which will execute arbitrary code during unpickling (See https://github.com/pytorch/pytorch/blob/main/SECURITY.md#untrusted-models for more details). In a future release, the default value for `weights_only` will be flipped to `True`. This limits the functions that could be executed during unpickling. Arbitrary objects will no longer be allowed to be loaded via this mode unless they are explicitly allowlisted by the user via `torch.serialization.add_safe_globals`. We recommend you start setting `weights_only=True` for any use case where you don't have full control of the loaded file. Please open an issue on GitHub for any issues related to this experimental feature.\n",
      "  net.load_state_dict(copyStateDict(torch.load(trained_model, map_location=device)))\n",
      "/Users/shubham/Downloads/7th Sem/Amazon ML/shubham/lib/python3.12/site-packages/easyocr/recognition.py:182: FutureWarning: You are using `torch.load` with `weights_only=False` (the current default value), which uses the default pickle module implicitly. It is possible to construct malicious pickle data which will execute arbitrary code during unpickling (See https://github.com/pytorch/pytorch/blob/main/SECURITY.md#untrusted-models for more details). In a future release, the default value for `weights_only` will be flipped to `True`. This limits the functions that could be executed during unpickling. Arbitrary objects will no longer be allowed to be loaded via this mode unless they are explicitly allowlisted by the user via `torch.serialization.add_safe_globals`. We recommend you start setting `weights_only=True` for any use case where you don't have full control of the loaded file. Please open an issue on GitHub for any issues related to this experimental feature.\n",
      "  model.load_state_dict(torch.load(model_path, map_location=device))\n"
     ]
    },
    {
     "name": "stdout",
     "output_type": "stream",
     "text": [
      "Extracting text from 61I9XdN6OFL.jpg\n",
      "Extracting text from 71gSRbyXmoL.jpg\n",
      "Extracting text from 61BZ4zrjZXL.jpg\n",
      "Extracting text from 612mrlqiI4L.jpg\n",
      "Extracting text from 617Tl40LOXL.jpg\n",
      "Extracting text from 61QsBSE7jgL.jpg\n",
      "Extracting text from 81xsq6vf2qL.jpg\n",
      "Error extracting text from image: MPS backend out of memory (MPS allocated: 7.91 GB, other allocations: 111.06 MB, max allowed: 9.07 GB). Tried to allocate 1.56 GB on private pool. Use PYTORCH_MPS_HIGH_WATERMARK_RATIO=0.0 to disable upper limit for memory allocations (may cause system failure).\n",
      "Extracting text from 71DiLRHeZdL.jpg\n",
      "Extracting text from 91Cma3RzseL.jpg\n",
      "Error extracting text from image: MPS backend out of memory (MPS allocated: 7.91 GB, other allocations: 101.06 MB, max allowed: 9.07 GB). Tried to allocate 1.56 GB on private pool. Use PYTORCH_MPS_HIGH_WATERMARK_RATIO=0.0 to disable upper limit for memory allocations (may cause system failure).\n",
      "Extracting text from 71jBLhmTNlL.jpg\n"
     ]
    }
   ],
   "source": [
    "import pandas as pd\n",
    "import easyocr\n",
    "import os\n",
    "from pathlib import Path\n",
    "\n",
    "# Initialize EasyOCR Reader\n",
    "reader = easyocr.Reader(['en'])\n",
    "\n",
    "def extract_text_from_image(image_path):\n",
    "    try:\n",
    "        result = reader.readtext(image_path)\n",
    "        text = \" \".join([res[1] for res in result])\n",
    "        return text\n",
    "    except Exception as e:\n",
    "        print(f\"Error extracting text from image: {e}\")\n",
    "        return None\n",
    "\n",
    "def get_ocr_text(row):\n",
    "    link = row['image_link']\n",
    "    image_name = Path(link).name\n",
    "    sample_image_path = f\"../images/{image_name}\"\n",
    "    \n",
    "    if os.path.exists(sample_image_path):\n",
    "        print(f\"Extracting text from {image_name}\")\n",
    "        return extract_text_from_image(sample_image_path)\n",
    "    else:\n",
    "        return \"File not found\"\n",
    "\n",
    "# Assume sample_test_df is your existing DataFrame\n",
    "# Apply the function to each row and create a new column 'ocr_text'\n",
    "train_500['ocr_text'] = train_500.apply(get_ocr_text, axis=1)\n",
    "\n",
    "# Save the updated DataFrame to a CSV file (if needed)\n",
    "train_500.to_csv('updated_sample_test_df.csv', index=False)"
   ]
  },
  {
   "cell_type": "code",
   "execution_count": null,
   "metadata": {},
   "outputs": [],
   "source": []
  }
 ],
 "metadata": {
  "kernelspec": {
   "display_name": "shubham",
   "language": "python",
   "name": "python3"
  },
  "language_info": {
   "codemirror_mode": {
    "name": "ipython",
    "version": 3
   },
   "file_extension": ".py",
   "mimetype": "text/x-python",
   "name": "python",
   "nbconvert_exporter": "python",
   "pygments_lexer": "ipython3",
   "version": "3.12.3"
  }
 },
 "nbformat": 4,
 "nbformat_minor": 2
}
